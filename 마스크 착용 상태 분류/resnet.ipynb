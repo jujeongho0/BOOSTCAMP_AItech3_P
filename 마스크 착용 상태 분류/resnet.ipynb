{
 "cells": [
  {
   "cell_type": "code",
   "execution_count": 1,
   "id": "cubic-scoop",
   "metadata": {},
   "outputs": [],
   "source": [
    "import os\n",
    "import pandas as pd\n",
    "from PIL import Image\n",
    "\n",
    "import torch\n",
    "import torch.nn as nn\n",
    "import torch.nn.functional as F\n",
    "from torch.utils.data import Dataset, DataLoader\n",
    "\n",
    "import torchvision\n",
    "from torchvision import transforms\n",
    "from torchvision.transforms import Resize, ToTensor, Normalize"
   ]
  },
  {
   "cell_type": "code",
   "execution_count": 2,
   "id": "cabca910",
   "metadata": {},
   "outputs": [],
   "source": [
    "final = pd.read_csv('../input/data/train/final.csv')\n",
    "final = final.loc[:, ['path', 'label','age','id']]"
   ]
  },
  {
   "cell_type": "code",
   "execution_count": 3,
   "id": "c20036b2",
   "metadata": {},
   "outputs": [
    {
     "data": {
      "text/plain": [
       "<matplotlib.axes._subplots.AxesSubplot at 0x7f9b0e09fe20>"
      ]
     },
     "execution_count": 3,
     "metadata": {},
     "output_type": "execute_result"
    },
    {
     "data": {
      "image/png": "[encoded data removed]",
      "text/plain": [
       "<Figure size 1080x504 with 1 Axes>"
      ]
     },
     "metadata": {
      "needs_background": "light"
     },
     "output_type": "display_data"
    }
   ],
   "source": [
    "import matplotlib.pyplot as plt\n",
    "import seaborn as sns\n",
    "fig, ax = plt.subplots(1, 1, figsize=(15, 7))\n",
    "sns.countplot(x='label', data=final, ax=ax)"
   ]
  },
  {
   "cell_type": "code",
   "execution_count": 4,
   "id": "269c1741",
   "metadata": {},
   "outputs": [],
   "source": [
    "class CustomDataset(Dataset):\n",
    "    def __init__(self, train_csv, transform):\n",
    "        self.X = train_csv['path']\n",
    "        self.y = train_csv['label']\n",
    "        self.transform = transform\n",
    "        \n",
    "    def __getitem__(self, index):\n",
    "        image = Image.open(self.X.iloc[index])\n",
    "        label = self.y.iloc[index]\n",
    "        \n",
    "        if self.transform: image = self.transform(image)\n",
    "        return image, label\n",
    "    \n",
    "    def __len__(self):\n",
    "        return len(self.X)"
   ]
  },
  {
   "cell_type": "code",
   "execution_count": 5,
   "id": "9482b43d",
   "metadata": {},
   "outputs": [],
   "source": [
    "transform = transforms.Compose([\n",
    "    ToTensor(),\n",
    "])"
   ]
  },
  {
   "cell_type": "code",
   "execution_count": 7,
   "id": "5bbc8ee5",
   "metadata": {},
   "outputs": [],
   "source": [
    "from sklearn.model_selection import train_test_split\n",
    "dt = pd.read_csv('../input/data/train/distinct.csv')\n",
    "train_set, val_set = train_test_split(dt, test_size=0.2,\n",
    "                                      shuffle=True, stratify=dt['age'],\n",
    "                                      random_state = 42)"
   ]
  },
  {
   "cell_type": "code",
   "execution_count": 8,
   "id": "2700680d",
   "metadata": {},
   "outputs": [],
   "source": [
    "train_set = final[final['id'].isin(train_set['id'])]\n",
    "val_set = final[final['id'].isin(val_set['id'])]"
   ]
  },
  {
   "cell_type": "code",
   "execution_count": 10,
   "id": "fabd1233",
   "metadata": {},
   "outputs": [
    {
     "data": {
      "text/plain": [
       "<matplotlib.axes._subplots.AxesSubplot at 0x7f9b0bc6a160>"
      ]
     },
     "execution_count": 10,
     "metadata": {},
     "output_type": "execute_result"
    },
    {
     "data": {
      "image/png": "[encoded data removed]",
      "text/plain": [
       "<Figure size 864x360 with 2 Axes>"
      ]
     },
     "metadata": {
      "needs_background": "light"
     },
     "output_type": "display_data"
    }
   ],
   "source": [
    "fig, axes = plt.subplots(1,2, figsize=(12,5))\n",
    "sns.countplot(x='label', data=train_set, ax=axes[0])\n",
    "sns.countplot(x='label', data=val_set, ax=axes[1])"
   ]
  },
  {
   "cell_type": "code",
   "execution_count": 11,
   "id": "2c1347cc",
   "metadata": {},
   "outputs": [],
   "source": [
    "BATCH_SIZE = 64\n",
    "train_dataset = CustomDataset(train_set, transform)\n",
    "train_dataloader = DataLoader(train_dataset, batch_size=BATCH_SIZE, shuffle=True)"
   ]
  },
  {
   "cell_type": "code",
   "execution_count": 12,
   "id": "f938f54d",
   "metadata": {},
   "outputs": [],
   "source": [
    "valid_dataset = CustomDataset(val_set, transform)\n",
    "valid_dataloader = DataLoader(valid_dataset, batch_size=BATCH_SIZE, shuffle=True)"
   ]
  },
  {
   "cell_type": "code",
   "execution_count": 13,
   "id": "80a4c59e",
   "metadata": {},
   "outputs": [],
   "source": [
    "resnet18 = torchvision.models.resnet18(pretrained=True)"
   ]
  },
  {
   "cell_type": "code",
   "execution_count": 14,
   "id": "96955008",
   "metadata": {},
   "outputs": [],
   "source": [
    "import math\n",
    "\n",
    "for param in resnet18.parameters():\n",
    "    param.requires_grad = False\n",
    "\n",
    "CLASS_NUM = 18\n",
    "resnet18.fc = torch.nn.Linear(in_features=resnet18.fc.in_features, out_features=CLASS_NUM)"
   ]
  },
  {
   "cell_type": "code",
   "execution_count": 15,
   "id": "463910cd",
   "metadata": {},
   "outputs": [
    {
     "data": {
      "text/plain": [
       "device(type='cuda', index=0)"
      ]
     },
     "execution_count": 15,
     "metadata": {},
     "output_type": "execute_result"
    }
   ],
   "source": [
    "device = torch.device(\"cuda:0\" if torch.cuda.is_available() else \"cpu\")\n",
    "device"
   ]
  },
  {
   "cell_type": "code",
   "execution_count": 17,
   "id": "a43e68e0",
   "metadata": {},
   "outputs": [],
   "source": [
    "class FocalLoss(nn.Module):\n",
    "    def __init__(self, weight=None,\n",
    "                 gamma=2., reduction='mean'):\n",
    "        nn.Module.__init__(self)\n",
    "        self.weight = weight\n",
    "        self.gamma = gamma\n",
    "        self.reduction = reduction\n",
    "\n",
    "    def forward(self, input_tensor, target_tensor):\n",
    "        log_prob = F.log_softmax(input_tensor, dim=-1)\n",
    "        prob = torch.exp(log_prob)\n",
    "        return F.nll_loss(\n",
    "            ((1 - prob) ** self.gamma) * log_prob,\n",
    "            target_tensor,\n",
    "            weight=self.weight,\n",
    "            reduction=self.reduction\n",
    "        )"
   ]
  },
  {
   "cell_type": "code",
   "execution_count": 18,
   "id": "836c6108",
   "metadata": {},
   "outputs": [],
   "source": [
    "resnet18.to(device)\n",
    "\n",
    "LEARNING_RATE = 0.001\n",
    "NUM_EPOCH = 10\n",
    "\n",
    "loss_fn = FocalLoss()\n",
    "optimizer = torch.optim.Adam(resnet18.parameters(), lr=LEARNING_RATE)\n",
    "dataloaders = {\n",
    "    \"train\" : train_dataloader,\n",
    "    \"test\" : valid_dataloader\n",
    "}"
   ]
  },
  {
   "cell_type": "code",
   "execution_count": 22,
   "id": "7c85053c",
   "metadata": {},
   "outputs": [
    {
     "name": "stdout",
     "output_type": "stream",
     "text": [
      "epoch 0 >> train : 평균 Loss : 0.276, 평균 Accuracy : 0.806\n",
      "epoch 0 >> test : 평균 Loss : 0.341, 평균 Accuracy : 0.745\n",
      "epoch 1 >> train : 평균 Loss : 0.273, 평균 Accuracy : 0.811\n",
      "epoch 1 >> test : 평균 Loss : 0.342, 평균 Accuracy : 0.753\n",
      "epoch 2 >> train : 평균 Loss : 0.272, 평균 Accuracy : 0.811\n",
      "epoch 2 >> test : 평균 Loss : 0.340, 평균 Accuracy : 0.750\n",
      "epoch 3 >> train : 평균 Loss : 0.271, 평균 Accuracy : 0.812\n",
      "epoch 3 >> test : 평균 Loss : 0.341, 평균 Accuracy : 0.751\n",
      "epoch 4 >> train : 평균 Loss : 0.270, 평균 Accuracy : 0.811\n",
      "epoch 4 >> test : 평균 Loss : 0.341, 평균 Accuracy : 0.753\n",
      "epoch 5 >> train : 평균 Loss : 0.264, 평균 Accuracy : 0.817\n",
      "epoch 5 >> test : 평균 Loss : 0.340, 평균 Accuracy : 0.750\n",
      "epoch 6 >> train : 평균 Loss : 0.266, 평균 Accuracy : 0.815\n",
      "epoch 6 >> test : 평균 Loss : 0.337, 평균 Accuracy : 0.751\n",
      "epoch 7 >> train : 평균 Loss : 0.265, 평균 Accuracy : 0.816\n",
      "epoch 7 >> test : 평균 Loss : 0.337, 평균 Accuracy : 0.753\n",
      "epoch 8 >> train : 평균 Loss : 0.262, 평균 Accuracy : 0.814\n",
      "epoch 8 >> test : 평균 Loss : 0.332, 평균 Accuracy : 0.752\n",
      "epoch 9 >> train : 평균 Loss : 0.261, 평균 Accuracy : 0.818\n",
      "epoch 9 >> test : 평균 Loss : 0.334, 평균 Accuracy : 0.749\n",
      "epoch 10 >> train : 평균 Loss : 0.259, 평균 Accuracy : 0.820\n",
      "epoch 10 >> test : 평균 Loss : 0.330, 평균 Accuracy : 0.745\n",
      "epoch 11 >> train : 평균 Loss : 0.255, 평균 Accuracy : 0.822\n",
      "epoch 11 >> test : 평균 Loss : 0.331, 평균 Accuracy : 0.753\n",
      "epoch 12 >> train : 평균 Loss : 0.254, 평균 Accuracy : 0.820\n",
      "epoch 12 >> test : 평균 Loss : 0.331, 평균 Accuracy : 0.757\n",
      "epoch 13 >> train : 평균 Loss : 0.254, 평균 Accuracy : 0.822\n",
      "epoch 13 >> test : 평균 Loss : 0.328, 평균 Accuracy : 0.750\n",
      "epoch 14 >> train : 평균 Loss : 0.252, 평균 Accuracy : 0.821\n",
      "epoch 14 >> test : 평균 Loss : 0.333, 평균 Accuracy : 0.751\n",
      "epoch 15 >> train : 평균 Loss : 0.252, 평균 Accuracy : 0.822\n",
      "epoch 15 >> test : 평균 Loss : 0.329, 평균 Accuracy : 0.752\n",
      "epoch 16 >> train : 평균 Loss : 0.248, 평균 Accuracy : 0.824\n",
      "epoch 16 >> test : 평균 Loss : 0.332, 평균 Accuracy : 0.751\n",
      "epoch 17 >> train : 평균 Loss : 0.246, 평균 Accuracy : 0.824\n",
      "epoch 17 >> test : 평균 Loss : 0.325, 평균 Accuracy : 0.751\n",
      "epoch 18 >> train : 평균 Loss : 0.244, 평균 Accuracy : 0.826\n",
      "epoch 18 >> test : 평균 Loss : 0.327, 평균 Accuracy : 0.755\n",
      "epoch 19 >> train : 평균 Loss : 0.245, 평균 Accuracy : 0.823\n",
      "epoch 19 >> test : 평균 Loss : 0.323, 평균 Accuracy : 0.757\n",
      "epoch 20 >> train : 평균 Loss : 0.243, 평균 Accuracy : 0.823\n",
      "epoch 20 >> test : 평균 Loss : 0.329, 평균 Accuracy : 0.752\n",
      "epoch 21 >> train : 평균 Loss : 0.242, 평균 Accuracy : 0.823\n",
      "epoch 21 >> test : 평균 Loss : 0.323, 평균 Accuracy : 0.757\n",
      "epoch 22 >> train : 평균 Loss : 0.240, 평균 Accuracy : 0.828\n",
      "epoch 22 >> test : 평균 Loss : 0.330, 평균 Accuracy : 0.754\n",
      "epoch 23 >> train : 평균 Loss : 0.238, 평균 Accuracy : 0.828\n",
      "epoch 23 >> test : 평균 Loss : 0.323, 평균 Accuracy : 0.755\n",
      "epoch 24 >> train : 평균 Loss : 0.237, 평균 Accuracy : 0.828\n",
      "epoch 24 >> test : 평균 Loss : 0.327, 평균 Accuracy : 0.751\n",
      "epoch 25 >> train : 평균 Loss : 0.236, 평균 Accuracy : 0.828\n",
      "epoch 25 >> test : 평균 Loss : 0.323, 평균 Accuracy : 0.753\n",
      "epoch 26 >> train : 평균 Loss : 0.233, 평균 Accuracy : 0.827\n",
      "epoch 26 >> test : 평균 Loss : 0.324, 평균 Accuracy : 0.753\n",
      "epoch 27 >> train : 평균 Loss : 0.234, 평균 Accuracy : 0.830\n",
      "epoch 27 >> test : 평균 Loss : 0.328, 평균 Accuracy : 0.752\n",
      "epoch 28 >> train : 평균 Loss : 0.231, 평균 Accuracy : 0.828\n",
      "epoch 28 >> test : 평균 Loss : 0.329, 평균 Accuracy : 0.752\n",
      "epoch 29 >> train : 평균 Loss : 0.230, 평균 Accuracy : 0.833\n",
      "epoch 29 >> test : 평균 Loss : 0.326, 평균 Accuracy : 0.752\n",
      "Training Done.\n",
      "Best Accuracy : 0.7573277354240417, Best Loss : 0.32261476216969087\n"
     ]
    }
   ],
   "source": [
    "best_test_accuracy = 0\n",
    "best_test_loss = 9999.\n",
    "train_losses, val_losses,  train_accs, val_accs= [], [], [], []\n",
    "\n",
    "for epoch in range(NUM_EPOCH):    \n",
    "    for phase in [\"train\", \"test\"]:\n",
    "        running_loss = 0.\n",
    "        running_acc = 0.\n",
    "        if phase == \"train\": resnet18.train()\n",
    "        elif phase == \"test\": resnet18.eval()\n",
    "        \n",
    "        for ind, (images, labels) in enumerate(dataloaders[phase]):\n",
    "            images = images.to(device)\n",
    "            labels = labels.to(device)\n",
    "            \n",
    "            optimizer.zero_grad()\n",
    "            \n",
    "            with torch.set_grad_enabled(phase == \"train\"):\n",
    "                logits = resnet18(images)\n",
    "                _, preds = torch.max(logits, 1)\n",
    "                loss = loss_fn(logits, labels)\n",
    "                \n",
    "                if phase == \"train\":\n",
    "                    loss.backward()\n",
    "                    optimizer.step()\n",
    "                    \n",
    "            running_loss += loss.item() * images.size(0)\n",
    "            running_acc += torch.sum(preds == labels.data)\n",
    "\n",
    "        epoch_loss = running_loss / len(dataloaders[phase].dataset)\n",
    "        epoch_acc = running_acc / len(dataloaders[phase].dataset)\n",
    "             \n",
    "        if phase == \"train\":\n",
    "            train_losses.append(epoch_loss) \n",
    "            train_accs.append(epoch_acc)\n",
    "        else:\n",
    "            val_losses.append(epoch_loss)\n",
    "            val_accs.append(epoch_acc)\n",
    "        \n",
    "        print(f\"epoch {epoch} >> {phase} : 평균 Loss : {epoch_loss:.3f}, 평균 Accuracy : {epoch_acc:.3f}\")\n",
    "        if phase == \"test\" and best_test_accuracy < epoch_acc: best_test_accuracy = epoch_acc\n",
    "        if phase == \"test\" and best_test_loss > epoch_loss: best_test_loss = epoch_loss\n",
    "    \n",
    "print(\"Training Done.\")\n",
    "print(f\"Best Accuracy : {best_test_accuracy}, Best Loss : {best_test_loss}\")\n",
    "        "
   ]
  },
  {
   "cell_type": "code",
   "execution_count": 21,
   "id": "e9aae8b4",
   "metadata": {},
   "outputs": [
    {
     "data": {
      "image/png": "[encoded data removed]",
      "text/plain": [
       "<Figure size 720x360 with 2 Axes>"
      ]
     },
     "metadata": {
      "needs_background": "light"
     },
     "output_type": "display_data"
    }
   ],
   "source": [
    "plt.figure(figsize=(10,5)) \n",
    "plt.subplot(1,2,1) \n",
    "plt.xlabel('Epoch') \n",
    "plt.ylabel('Loss') \n",
    "# loss = [i.detach().numpy() for i in losses]\n",
    "plt.plot(train_losses, 'b-', label='train loss') \n",
    "plt.plot(val_losses, 'r--', label='val loss') \n",
    "plt.legend()\n",
    "\n",
    "plt.subplot(1,2,2) \n",
    "plt.xlabel('Epoch') \n",
    "plt.ylabel('Accuracy') \n",
    "plt.plot(train_accs, 'g-', label='train accuracy') \n",
    "plt.plot(val_accs, 'r--', label='val accuracy') \n",
    "plt.legend()\n",
    "plt.show()"
   ]
  },
  {
   "cell_type": "code",
   "execution_count": 23,
   "id": "built-elevation",
   "metadata": {},
   "outputs": [],
   "source": [
    "# 테스트 데이터셋 폴더 경로를 지정해주세요.\n",
    "test_dir = '/opt/ml/input/data/eval'"
   ]
  },
  {
   "cell_type": "code",
   "execution_count": 24,
   "id": "extensive-north",
   "metadata": {},
   "outputs": [],
   "source": [
    "class TestDataset(Dataset):\n",
    "    def __init__(self, img_paths, transform):\n",
    "        self.img_paths = img_paths\n",
    "        self.transform = transform\n",
    "\n",
    "    def __getitem__(self, index):\n",
    "        image = Image.open(self.img_paths[index])\n",
    "\n",
    "        if self.transform:\n",
    "            image = self.transform(image)\n",
    "        return image\n",
    "\n",
    "    def __len__(self):\n",
    "        return len(self.img_paths)"
   ]
  },
  {
   "cell_type": "code",
   "execution_count": 25,
   "id": "coral-shade",
   "metadata": {},
   "outputs": [
    {
     "name": "stdout",
     "output_type": "stream",
     "text": [
      "test inference is done!\n"
     ]
    }
   ],
   "source": [
    "# meta 데이터와 이미지 경로를 불러옵니다.\n",
    "submission = pd.read_csv(os.path.join(test_dir, 'info.csv'))\n",
    "image_dir = os.path.join(test_dir, 'images')\n",
    "\n",
    "# Test Dataset 클래스 객체를 생성하고 DataLoader를 만듭니다.\n",
    "image_paths = [os.path.join(image_dir, img_id) for img_id in submission.ImageID]\n",
    "transform = transforms.Compose([\n",
    "    ToTensor(),\n",
    "])\n",
    "dataset = TestDataset(image_paths, transform)\n",
    "\n",
    "loader = DataLoader(\n",
    "    dataset,\n",
    "    shuffle=False\n",
    ")\n",
    "\n",
    "# 모델을 정의합니다. (학습한 모델이 있다면 torch.load로 모델을 불러주세요!)\n",
    "model = resnet18\n",
    "model.eval()\n",
    "\n",
    "# 모델이 테스트 데이터셋을 예측하고 결과를 저장합니다.\n",
    "all_predictions = []\n",
    "for images in loader:\n",
    "    with torch.no_grad():\n",
    "        images = images.to(device)\n",
    "        pred = model(images)\n",
    "        pred = pred.argmax(dim=-1)\n",
    "        all_predictions.extend(pred.cpu().numpy())\n",
    "        \n",
    "submission['ans'] = all_predictions\n",
    "\n",
    "# 제출할 파일을 저장합니다.\n",
    "submission.to_csv(os.path.join(test_dir, 'submission.csv'), index=False)\n",
    "print('test inference is done!')"
   ]
  },
  {
   "cell_type": "code",
   "execution_count": 26,
   "id": "verbal-sample",
   "metadata": {},
   "outputs": [
    {
     "data": {
      "text/html": [
       "<div>\n",
       "<style scoped>\n",
       "    .dataframe tbody tr th:only-of-type {\n",
       "        vertical-align: middle;\n",
       "    }\n",
       "\n",
       "    .dataframe tbody tr th {\n",
       "        vertical-align: top;\n",
       "    }\n",
       "\n",
       "    .dataframe thead th {\n",
       "        text-align: right;\n",
       "    }\n",
       "</style>\n",
       "<table border=\"1\" class=\"dataframe\">\n",
       "  <thead>\n",
       "    <tr style=\"text-align: right;\">\n",
       "      <th></th>\n",
       "      <th>ImageID</th>\n",
       "      <th>ans</th>\n",
       "    </tr>\n",
       "  </thead>\n",
       "  <tbody>\n",
       "    <tr>\n",
       "      <th>0</th>\n",
       "      <td>cbc5c6e168e63498590db46022617123f1fe1268.jpg</td>\n",
       "      <td>14</td>\n",
       "    </tr>\n",
       "    <tr>\n",
       "      <th>1</th>\n",
       "      <td>0e72482bf56b3581c081f7da2a6180b8792c7089.jpg</td>\n",
       "      <td>2</td>\n",
       "    </tr>\n",
       "    <tr>\n",
       "      <th>2</th>\n",
       "      <td>b549040c49190cedc41327748aeb197c1670f14d.jpg</td>\n",
       "      <td>14</td>\n",
       "    </tr>\n",
       "    <tr>\n",
       "      <th>3</th>\n",
       "      <td>4f9cb2a045c6d5b9e50ad3459ea7b791eb6e18bc.jpg</td>\n",
       "      <td>17</td>\n",
       "    </tr>\n",
       "    <tr>\n",
       "      <th>4</th>\n",
       "      <td>248428d9a4a5b6229a7081c32851b90cb8d38d0c.jpg</td>\n",
       "      <td>13</td>\n",
       "    </tr>\n",
       "  </tbody>\n",
       "</table>\n",
       "</div>"
      ],
      "text/plain": [
       "                                        ImageID  ans\n",
       "0  cbc5c6e168e63498590db46022617123f1fe1268.jpg   14\n",
       "1  0e72482bf56b3581c081f7da2a6180b8792c7089.jpg    2\n",
       "2  b549040c49190cedc41327748aeb197c1670f14d.jpg   14\n",
       "3  4f9cb2a045c6d5b9e50ad3459ea7b791eb6e18bc.jpg   17\n",
       "4  248428d9a4a5b6229a7081c32851b90cb8d38d0c.jpg   13"
      ]
     },
     "execution_count": 26,
     "metadata": {},
     "output_type": "execute_result"
    }
   ],
   "source": [
    "sub = pd.read_csv('/opt/ml/input/data/eval/submission.csv')\n",
    "sub.head()"
   ]
  }
 ],
 "metadata": {
  "kernelspec": {
   "display_name": "Python 3",
   "language": "python",
   "name": "python3"
  },
  "language_info": {
   "codemirror_mode": {
    "name": "ipython",
    "version": 3
   },
   "file_extension": ".py",
   "mimetype": "text/x-python",
   "name": "python",
   "nbconvert_exporter": "python",
   "pygments_lexer": "ipython3",
   "version": "3.8.5"
  }
 },
 "nbformat": 4,
 "nbformat_minor": 5
}
